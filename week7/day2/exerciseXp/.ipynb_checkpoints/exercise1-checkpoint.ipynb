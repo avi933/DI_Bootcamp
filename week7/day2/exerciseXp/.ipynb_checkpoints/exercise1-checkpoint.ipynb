{
 "cells": [
  {
   "cell_type": "code",
   "execution_count": 2,
   "metadata": {},
   "outputs": [
    {
     "name": "stdout",
     "output_type": "stream",
     "text": [
      "hello world\n",
      "18\n"
     ]
    }
   ],
   "source": [
    "print(\"hello world\")\n",
    "print(3*6)"
   ]
  }
 ],
 "metadata": {
  "kernelspec": {
   "display_name": "Python 3 (ipykernel)",
   "language": "python",
   "name": "python3"
  },
  "language_info": {
   "codemirror_mode": {
    "name": "ipython",
    "version": 3
   },
   "file_extension": ".py",
   "mimetype": "text/x-python",
   "name": "python",
   "nbconvert_exporter": "python",
   "pygments_lexer": "ipython3",
   "version": "3.8.10"
  },
  "vscode": {
   "interpreter": {
    "hash": "4101eb39c79c562154bae21f6af76fbfc4e0f4dad5ad400c68c35e64aa7b28c1"
   }
  }
 },
 "nbformat": 4,
 "nbformat_minor": 2
}
